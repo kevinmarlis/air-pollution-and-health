{
 "cells": [
  {
   "cell_type": "code",
   "execution_count": 43,
   "metadata": {},
   "outputs": [],
   "source": [
    "import pandas as pd\n",
    "import numpy as np\n",
    "import matplotlib.pyplot as plt\n",
    "import missingno as msno\n",
    "import seaborn as sns\n",
    "%matplotlib inline\n",
    "pd.set_option(\"display.max.columns\", None)"
   ]
  },
  {
   "cell_type": "code",
   "execution_count": 25,
   "metadata": {},
   "outputs": [],
   "source": [
    "cdc_data_df = pd.read_csv('/Users/kevinmarlis/Developer/Thesis/Data Sources/500 Cities/500_Cities_labels.csv')\n",
    "cdc_data_df = cdc_data_df.drop(['Unnamed: 0'], axis=1)\n",
    "cdc_data_df = cdc_data_df.rename(columns={'TractFIPS': 'CensusTract'})"
   ]
  },
  {
   "cell_type": "code",
   "execution_count": 26,
   "metadata": {},
   "outputs": [],
   "source": [
    "hpi_data_df = pd.read_csv('/Users/kevinmarlis/Developer/Thesis/Data Sources/Healthy Places Index/HPI_labels.csv')\n",
    "hpi_data_df = hpi_data_df.drop(['Unnamed: 0'], axis=1)"
   ]
  },
  {
   "cell_type": "code",
   "execution_count": 27,
   "metadata": {},
   "outputs": [
    {
     "name": "stdout",
     "output_type": "stream",
     "text": [
      "(1746, 5)\n"
     ]
    },
    {
     "data": {
      "text/html": [
       "<div>\n",
       "<style scoped>\n",
       "    .dataframe tbody tr th:only-of-type {\n",
       "        vertical-align: middle;\n",
       "    }\n",
       "\n",
       "    .dataframe tbody tr th {\n",
       "        vertical-align: top;\n",
       "    }\n",
       "\n",
       "    .dataframe thead th {\n",
       "        text-align: right;\n",
       "    }\n",
       "</style>\n",
       "<table border=\"1\" class=\"dataframe\">\n",
       "  <thead>\n",
       "    <tr style=\"text-align: right;\">\n",
       "      <th></th>\n",
       "      <th>CensusTract</th>\n",
       "      <th>CANCER_CrudePrev</th>\n",
       "      <th>CASTHMA_CrudePrev</th>\n",
       "      <th>CHD_CrudePrev</th>\n",
       "      <th>COPD_CrudePrev</th>\n",
       "    </tr>\n",
       "  </thead>\n",
       "  <tbody>\n",
       "    <tr>\n",
       "      <th>0</th>\n",
       "      <td>6037480302</td>\n",
       "      <td>5.4</td>\n",
       "      <td>7.4</td>\n",
       "      <td>4.8</td>\n",
       "      <td>4.1</td>\n",
       "    </tr>\n",
       "    <tr>\n",
       "      <th>1</th>\n",
       "      <td>6037480303</td>\n",
       "      <td>3.9</td>\n",
       "      <td>7.2</td>\n",
       "      <td>3.8</td>\n",
       "      <td>3.4</td>\n",
       "    </tr>\n",
       "    <tr>\n",
       "      <th>2</th>\n",
       "      <td>6037480304</td>\n",
       "      <td>4.7</td>\n",
       "      <td>7.5</td>\n",
       "      <td>5.7</td>\n",
       "      <td>4.6</td>\n",
       "    </tr>\n",
       "    <tr>\n",
       "      <th>3</th>\n",
       "      <td>6037480400</td>\n",
       "      <td>6.0</td>\n",
       "      <td>7.1</td>\n",
       "      <td>4.5</td>\n",
       "      <td>3.6</td>\n",
       "    </tr>\n",
       "    <tr>\n",
       "      <th>4</th>\n",
       "      <td>6037480802</td>\n",
       "      <td>5.4</td>\n",
       "      <td>7.3</td>\n",
       "      <td>5.2</td>\n",
       "      <td>4.1</td>\n",
       "    </tr>\n",
       "  </tbody>\n",
       "</table>\n",
       "</div>"
      ],
      "text/plain": [
       "   CensusTract  CANCER_CrudePrev  CASTHMA_CrudePrev  CHD_CrudePrev  \\\n",
       "0   6037480302               5.4                7.4            4.8   \n",
       "1   6037480303               3.9                7.2            3.8   \n",
       "2   6037480304               4.7                7.5            5.7   \n",
       "3   6037480400               6.0                7.1            4.5   \n",
       "4   6037480802               5.4                7.3            5.2   \n",
       "\n",
       "   COPD_CrudePrev  \n",
       "0             4.1  \n",
       "1             3.4  \n",
       "2             4.6  \n",
       "3             3.6  \n",
       "4             4.1  "
      ]
     },
     "execution_count": 27,
     "metadata": {},
     "output_type": "execute_result"
    }
   ],
   "source": [
    "print(cdc_data_df.shape)\n",
    "cdc_data_df.head()"
   ]
  },
  {
   "cell_type": "code",
   "execution_count": 28,
   "metadata": {},
   "outputs": [
    {
     "name": "stdout",
     "output_type": "stream",
     "text": [
      "(2346, 5)\n"
     ]
    },
    {
     "data": {
      "text/html": [
       "<div>\n",
       "<style scoped>\n",
       "    .dataframe tbody tr th:only-of-type {\n",
       "        vertical-align: middle;\n",
       "    }\n",
       "\n",
       "    .dataframe tbody tr th {\n",
       "        vertical-align: top;\n",
       "    }\n",
       "\n",
       "    .dataframe thead th {\n",
       "        text-align: right;\n",
       "    }\n",
       "</style>\n",
       "<table border=\"1\" class=\"dataframe\">\n",
       "  <thead>\n",
       "    <tr style=\"text-align: right;\">\n",
       "      <th></th>\n",
       "      <th>CensusTract</th>\n",
       "      <th>ozone</th>\n",
       "      <th>pm25</th>\n",
       "      <th>dieselpm</th>\n",
       "      <th>h20contam</th>\n",
       "    </tr>\n",
       "  </thead>\n",
       "  <tbody>\n",
       "    <tr>\n",
       "      <th>0</th>\n",
       "      <td>6037101110</td>\n",
       "      <td>0.055122</td>\n",
       "      <td>11.21</td>\n",
       "      <td>4.579248</td>\n",
       "      <td>618.051447</td>\n",
       "    </tr>\n",
       "    <tr>\n",
       "      <th>1</th>\n",
       "      <td>6037101122</td>\n",
       "      <td>0.055122</td>\n",
       "      <td>11.21</td>\n",
       "      <td>3.373877</td>\n",
       "      <td>616.698272</td>\n",
       "    </tr>\n",
       "    <tr>\n",
       "      <th>2</th>\n",
       "      <td>6037101210</td>\n",
       "      <td>0.053109</td>\n",
       "      <td>11.21</td>\n",
       "      <td>7.327438</td>\n",
       "      <td>618.051447</td>\n",
       "    </tr>\n",
       "    <tr>\n",
       "      <th>3</th>\n",
       "      <td>6037101220</td>\n",
       "      <td>0.053109</td>\n",
       "      <td>11.21</td>\n",
       "      <td>9.080922</td>\n",
       "      <td>618.051447</td>\n",
       "    </tr>\n",
       "    <tr>\n",
       "      <th>4</th>\n",
       "      <td>6037101300</td>\n",
       "      <td>0.053109</td>\n",
       "      <td>11.21</td>\n",
       "      <td>8.023887</td>\n",
       "      <td>849.099344</td>\n",
       "    </tr>\n",
       "  </tbody>\n",
       "</table>\n",
       "</div>"
      ],
      "text/plain": [
       "   CensusTract     ozone   pm25  dieselpm   h20contam\n",
       "0   6037101110  0.055122  11.21  4.579248  618.051447\n",
       "1   6037101122  0.055122  11.21  3.373877  616.698272\n",
       "2   6037101210  0.053109  11.21  7.327438  618.051447\n",
       "3   6037101220  0.053109  11.21  9.080922  618.051447\n",
       "4   6037101300  0.053109  11.21  8.023887  849.099344"
      ]
     },
     "execution_count": 28,
     "metadata": {},
     "output_type": "execute_result"
    }
   ],
   "source": [
    "print(hpi_data_df.shape)\n",
    "hpi_data_df.head()"
   ]
  },
  {
   "cell_type": "code",
   "execution_count": 30,
   "metadata": {},
   "outputs": [
    {
     "data": {
      "text/plain": [
       "606"
      ]
     },
     "execution_count": 30,
     "metadata": {},
     "output_type": "execute_result"
    }
   ],
   "source": [
    "cdc_tracts = list(cdc_data_df['CensusTract'])\n",
    "hpi_tracts = list(hpi_data_df['CensusTract'])\n",
    "cdc_tracts_not_in_hpi = [tract for tract in cdc_tracts if tract not in hpi_tracts]\n",
    "hpi_tracts_not_in_cdc = [tract for tract in hpi_tracts if tract not in cdc_tracts]\n",
    "len(hpi_tracts_not_in_cdc)"
   ]
  },
  {
   "cell_type": "code",
   "execution_count": 34,
   "metadata": {},
   "outputs": [],
   "source": [
    "combined_data_df = cdc_data_df.merge(hpi_data_df, on='CensusTract')\n",
    "combined_data_df = combined_data_df[['CensusTract', 'ozone', 'pm25', 'dieselpm', 'h20contam', 'CANCER_CrudePrev', 'CASTHMA_CrudePrev', 'CHD_CrudePrev', 'COPD_CrudePrev']]"
   ]
  },
  {
   "cell_type": "code",
   "execution_count": 35,
   "metadata": {},
   "outputs": [
    {
     "name": "stdout",
     "output_type": "stream",
     "text": [
      "(1746, 9)\n"
     ]
    },
    {
     "data": {
      "text/html": [
       "<div>\n",
       "<style scoped>\n",
       "    .dataframe tbody tr th:only-of-type {\n",
       "        vertical-align: middle;\n",
       "    }\n",
       "\n",
       "    .dataframe tbody tr th {\n",
       "        vertical-align: top;\n",
       "    }\n",
       "\n",
       "    .dataframe thead th {\n",
       "        text-align: right;\n",
       "    }\n",
       "</style>\n",
       "<table border=\"1\" class=\"dataframe\">\n",
       "  <thead>\n",
       "    <tr style=\"text-align: right;\">\n",
       "      <th></th>\n",
       "      <th>CensusTract</th>\n",
       "      <th>ozone</th>\n",
       "      <th>pm25</th>\n",
       "      <th>dieselpm</th>\n",
       "      <th>h20contam</th>\n",
       "      <th>CANCER_CrudePrev</th>\n",
       "      <th>CASTHMA_CrudePrev</th>\n",
       "      <th>CHD_CrudePrev</th>\n",
       "      <th>COPD_CrudePrev</th>\n",
       "    </tr>\n",
       "  </thead>\n",
       "  <tbody>\n",
       "    <tr>\n",
       "      <th>0</th>\n",
       "      <td>6037480302</td>\n",
       "      <td>0.051243</td>\n",
       "      <td>11.21</td>\n",
       "      <td>22.658533</td>\n",
       "      <td>857.966964</td>\n",
       "      <td>5.4</td>\n",
       "      <td>7.4</td>\n",
       "      <td>4.8</td>\n",
       "      <td>4.1</td>\n",
       "    </tr>\n",
       "    <tr>\n",
       "      <th>1</th>\n",
       "      <td>6037480303</td>\n",
       "      <td>0.049512</td>\n",
       "      <td>11.21</td>\n",
       "      <td>22.700000</td>\n",
       "      <td>862.362173</td>\n",
       "      <td>3.9</td>\n",
       "      <td>7.2</td>\n",
       "      <td>3.8</td>\n",
       "      <td>3.4</td>\n",
       "    </tr>\n",
       "    <tr>\n",
       "      <th>2</th>\n",
       "      <td>6037480304</td>\n",
       "      <td>0.049512</td>\n",
       "      <td>11.21</td>\n",
       "      <td>22.700000</td>\n",
       "      <td>862.362173</td>\n",
       "      <td>4.7</td>\n",
       "      <td>7.5</td>\n",
       "      <td>5.7</td>\n",
       "      <td>4.6</td>\n",
       "    </tr>\n",
       "    <tr>\n",
       "      <th>3</th>\n",
       "      <td>6037480400</td>\n",
       "      <td>0.051243</td>\n",
       "      <td>11.21</td>\n",
       "      <td>22.313068</td>\n",
       "      <td>855.975553</td>\n",
       "      <td>6.0</td>\n",
       "      <td>7.1</td>\n",
       "      <td>4.5</td>\n",
       "      <td>3.6</td>\n",
       "    </tr>\n",
       "    <tr>\n",
       "      <th>4</th>\n",
       "      <td>6037480802</td>\n",
       "      <td>0.049512</td>\n",
       "      <td>11.63</td>\n",
       "      <td>22.700000</td>\n",
       "      <td>1100.451859</td>\n",
       "      <td>5.4</td>\n",
       "      <td>7.3</td>\n",
       "      <td>5.2</td>\n",
       "      <td>4.1</td>\n",
       "    </tr>\n",
       "  </tbody>\n",
       "</table>\n",
       "</div>"
      ],
      "text/plain": [
       "   CensusTract     ozone   pm25   dieselpm    h20contam  CANCER_CrudePrev  \\\n",
       "0   6037480302  0.051243  11.21  22.658533   857.966964               5.4   \n",
       "1   6037480303  0.049512  11.21  22.700000   862.362173               3.9   \n",
       "2   6037480304  0.049512  11.21  22.700000   862.362173               4.7   \n",
       "3   6037480400  0.051243  11.21  22.313068   855.975553               6.0   \n",
       "4   6037480802  0.049512  11.63  22.700000  1100.451859               5.4   \n",
       "\n",
       "   CASTHMA_CrudePrev  CHD_CrudePrev  COPD_CrudePrev  \n",
       "0                7.4            4.8             4.1  \n",
       "1                7.2            3.8             3.4  \n",
       "2                7.5            5.7             4.6  \n",
       "3                7.1            4.5             3.6  \n",
       "4                7.3            5.2             4.1  "
      ]
     },
     "execution_count": 35,
     "metadata": {},
     "output_type": "execute_result"
    }
   ],
   "source": [
    "print(combined_data_df.shape)\n",
    "combined_data_df.head()"
   ]
  },
  {
   "cell_type": "code",
   "execution_count": 63,
   "metadata": {},
   "outputs": [],
   "source": [
    "correlation = combined_data_df.corr().abs()"
   ]
  },
  {
   "cell_type": "code",
   "execution_count": 64,
   "metadata": {},
   "outputs": [
    {
     "data": {
      "text/html": [
       "<div>\n",
       "<style scoped>\n",
       "    .dataframe tbody tr th:only-of-type {\n",
       "        vertical-align: middle;\n",
       "    }\n",
       "\n",
       "    .dataframe tbody tr th {\n",
       "        vertical-align: top;\n",
       "    }\n",
       "\n",
       "    .dataframe thead th {\n",
       "        text-align: right;\n",
       "    }\n",
       "</style>\n",
       "<table border=\"1\" class=\"dataframe\">\n",
       "  <thead>\n",
       "    <tr style=\"text-align: right;\">\n",
       "      <th></th>\n",
       "      <th>CANCER_CrudePrev</th>\n",
       "      <th>CASTHMA_CrudePrev</th>\n",
       "      <th>CHD_CrudePrev</th>\n",
       "      <th>COPD_CrudePrev</th>\n",
       "    </tr>\n",
       "  </thead>\n",
       "  <tbody>\n",
       "    <tr>\n",
       "      <th>ozone</th>\n",
       "      <td>0.142911</td>\n",
       "      <td>0.088477</td>\n",
       "      <td>0.025366</td>\n",
       "      <td>0.038274</td>\n",
       "    </tr>\n",
       "    <tr>\n",
       "      <th>pm25</th>\n",
       "      <td>0.157218</td>\n",
       "      <td>0.076292</td>\n",
       "      <td>0.008824</td>\n",
       "      <td>0.109562</td>\n",
       "    </tr>\n",
       "    <tr>\n",
       "      <th>dieselpm</th>\n",
       "      <td>0.244448</td>\n",
       "      <td>0.064324</td>\n",
       "      <td>0.049920</td>\n",
       "      <td>0.061158</td>\n",
       "    </tr>\n",
       "    <tr>\n",
       "      <th>h20contam</th>\n",
       "      <td>0.037919</td>\n",
       "      <td>0.113350</td>\n",
       "      <td>0.054218</td>\n",
       "      <td>0.007794</td>\n",
       "    </tr>\n",
       "  </tbody>\n",
       "</table>\n",
       "</div>"
      ],
      "text/plain": [
       "           CANCER_CrudePrev  CASTHMA_CrudePrev  CHD_CrudePrev  COPD_CrudePrev\n",
       "ozone              0.142911           0.088477       0.025366        0.038274\n",
       "pm25               0.157218           0.076292       0.008824        0.109562\n",
       "dieselpm           0.244448           0.064324       0.049920        0.061158\n",
       "h20contam          0.037919           0.113350       0.054218        0.007794"
      ]
     },
     "execution_count": 64,
     "metadata": {},
     "output_type": "execute_result"
    }
   ],
   "source": [
    "correlation = correlation.drop(correlation.index[[0,5,6,7,8]])\n",
    "correlation = correlation.drop(correlation.columns[[0,1,2,3,4]], axis=1)\n",
    "correlation"
   ]
  },
  {
   "cell_type": "code",
   "execution_count": 69,
   "metadata": {},
   "outputs": [
    {
     "data": {
      "text/plain": [
       "<matplotlib.axes._subplots.AxesSubplot at 0x7ff0496d8f90>"
      ]
     },
     "execution_count": 69,
     "metadata": {},
     "output_type": "execute_result"
    },
    {
     "data": {
      "image/png": "[encoded data removed]",
      "text/plain": [
       "<Figure size 792x648 with 2 Axes>"
      ]
     },
     "metadata": {
      "needs_background": "light"
     },
     "output_type": "display_data"
    }
   ],
   "source": [
    "f, ax = plt.subplots(figsize=(11, 9))\n",
    "\n",
    "sns.heatmap(correlation,square=True, linewidths=.5, cbar_kws={\"shrink\": .5})"
   ]
  },
  {
   "cell_type": "code",
   "execution_count": null,
   "metadata": {},
   "outputs": [],
   "source": []
  },
  {
   "cell_type": "code",
   "execution_count": null,
   "metadata": {},
   "outputs": [],
   "source": []
  }
 ],
 "metadata": {
  "kernelspec": {
   "display_name": "Python 3.7 (tensorflow)",
   "language": "python",
   "name": "tensorflow"
  },
  "language_info": {
   "codemirror_mode": {
    "name": "ipython",
    "version": 3
   },
   "file_extension": ".py",
   "mimetype": "text/x-python",
   "name": "python",
   "nbconvert_exporter": "python",
   "pygments_lexer": "ipython3",
   "version": "3.7.7"
  }
 },
 "nbformat": 4,
 "nbformat_minor": 4
}
